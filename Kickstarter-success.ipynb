{
 "cells": [
  {
   "cell_type": "code",
   "execution_count": 3,
   "metadata": {},
   "outputs": [],
   "source": [
    "import numpy as np\n",
    "from datascience import *\n",
    "import pandas as pd\n",
    "import time"
   ]
  },
  {
   "cell_type": "code",
   "execution_count": 17,
   "metadata": {},
   "outputs": [
    {
     "ename": "AttributeError",
     "evalue": "'DataFrame' object has no attribute 'cont'",
     "output_type": "error",
     "traceback": [
      "\u001b[0;31m---------------------------------------------------------------------------\u001b[0m",
      "\u001b[0;31mAttributeError\u001b[0m                            Traceback (most recent call last)",
      "\u001b[0;32m<ipython-input-17-6ddde3b86741>\u001b[0m in \u001b[0;36m<module>\u001b[0;34m()\u001b[0m\n\u001b[1;32m      1\u001b[0m \u001b[0mairports\u001b[0m\u001b[0;34m=\u001b[0m\u001b[0mpd\u001b[0m\u001b[0;34m.\u001b[0m\u001b[0mread_csv\u001b[0m\u001b[0;34m(\u001b[0m\u001b[0;34m'airports.csv'\u001b[0m\u001b[0;34m)\u001b[0m\u001b[0;34m\u001b[0m\u001b[0m\n\u001b[0;32m----> 2\u001b[0;31m \u001b[0mairports\u001b[0m\u001b[0;34m.\u001b[0m\u001b[0mcont\u001b[0m\u001b[0;34m\u001b[0m\u001b[0m\n\u001b[0m",
      "\u001b[0;32m/srv/app/venv/lib/python3.6/site-packages/pandas/core/generic.py\u001b[0m in \u001b[0;36m__getattr__\u001b[0;34m(self, name)\u001b[0m\n\u001b[1;32m   4374\u001b[0m             \u001b[0;32mif\u001b[0m \u001b[0mself\u001b[0m\u001b[0;34m.\u001b[0m\u001b[0m_info_axis\u001b[0m\u001b[0;34m.\u001b[0m\u001b[0m_can_hold_identifiers_and_holds_name\u001b[0m\u001b[0;34m(\u001b[0m\u001b[0mname\u001b[0m\u001b[0;34m)\u001b[0m\u001b[0;34m:\u001b[0m\u001b[0;34m\u001b[0m\u001b[0m\n\u001b[1;32m   4375\u001b[0m                 \u001b[0;32mreturn\u001b[0m \u001b[0mself\u001b[0m\u001b[0;34m[\u001b[0m\u001b[0mname\u001b[0m\u001b[0;34m]\u001b[0m\u001b[0;34m\u001b[0m\u001b[0m\n\u001b[0;32m-> 4376\u001b[0;31m             \u001b[0;32mreturn\u001b[0m \u001b[0mobject\u001b[0m\u001b[0;34m.\u001b[0m\u001b[0m__getattribute__\u001b[0m\u001b[0;34m(\u001b[0m\u001b[0mself\u001b[0m\u001b[0;34m,\u001b[0m \u001b[0mname\u001b[0m\u001b[0;34m)\u001b[0m\u001b[0;34m\u001b[0m\u001b[0m\n\u001b[0m\u001b[1;32m   4377\u001b[0m \u001b[0;34m\u001b[0m\u001b[0m\n\u001b[1;32m   4378\u001b[0m     \u001b[0;32mdef\u001b[0m \u001b[0m__setattr__\u001b[0m\u001b[0;34m(\u001b[0m\u001b[0mself\u001b[0m\u001b[0;34m,\u001b[0m \u001b[0mname\u001b[0m\u001b[0;34m,\u001b[0m \u001b[0mvalue\u001b[0m\u001b[0;34m)\u001b[0m\u001b[0;34m:\u001b[0m\u001b[0;34m\u001b[0m\u001b[0m\n",
      "\u001b[0;31mAttributeError\u001b[0m: 'DataFrame' object has no attribute 'cont'"
     ]
    }
   ],
   "source": [
    "airports=pd.read_csv('airports.csv')\n",
    "airports.co"
   ]
  },
  {
   "cell_type": "code",
   "execution_count": 4,
   "metadata": {},
   "outputs": [
    {
     "data": {
      "text/html": [
       "<table border=\"1\" class=\"dataframe\">\n",
       "    <thead>\n",
       "        <tr>\n",
       "            <th>backers_count</th> <th>blurb</th> <th>category</th> <th>converted_pledged_amount</th> <th>country</th> <th>created_at</th> <th>creator</th> <th>currency</th> <th>currency_symbol</th> <th>currency_trailing_code</th> <th>current_currency</th> <th>deadline</th> <th>disable_communication</th> <th>friends</th> <th>fx_rate</th> <th>goal</th> <th>id</th> <th>is_backing</th> <th>is_starrable</th> <th>is_starred</th> <th>launched_at</th> <th>location</th> <th>name</th> <th>permissions</th> <th>photo</th> <th>pledged</th> <th>profile</th> <th>slug</th> <th>source_url</th> <th>spotlight</th> <th>staff_pick</th> <th>state</th> <th>state_changed_at</th> <th>static_usd_rate</th> <th>urls</th> <th>usd_pledged</th> <th>usd_type</th>\n",
       "        </tr>\n",
       "    </thead>\n",
       "    <tbody>\n",
       "        <tr>\n",
       "            <td>2            </td> <td>A unique stand for the iPhone 5,  5s, 5c, 6, with an aco ...</td> <td>{\"id\":339,\"name\":\"Sound\",\"slug\":\"technology/sound\",\"posi ...</td> <td>50                      </td> <td>US     </td> <td>1418168097</td> <td>{\"id\":29009083,\"name\":\"Rostislav Persion\",\"is_registered ...</td> <td>USD     </td> <td>$              </td> <td>True                  </td> <td>USD             </td> <td>1423355311</td> <td>False                </td> <td>nan    </td> <td>1       </td> <td>10000</td> <td>730648362 </td> <td>nan       </td> <td>False       </td> <td>nan       </td> <td>1418171311 </td> <td>{\"id\":2456971,\"name\":\"Nanuet\",\"slug\":\"nanuet-ny\",\"short_ ...</td> <td>iPhone 5, 5s, 5c, 6 Stand and Passive Amplifier (Canceled)  </td> <td>nan        </td> <td>{\"key\":\"assets/011/969/608/49a2352afc22a69bd18c339569e6a ...</td> <td>50     </td> <td>{\"id\":1567403,\"project_id\":1567403,\"state\":\"inactive\",\"s ...</td> <td>iphone-5-5s-5c-stand-and-passive-amplifier        </td> <td>https://www.kickstarter.com/discover/categories/technolo ...</td> <td>False    </td> <td>False     </td> <td>canceled  </td> <td>1418526111      </td> <td>1              </td> <td>{\"web\":{\"project\":\"https://www.kickstarter.com/projects/ ...</td> <td>50         </td> <td>international</td>\n",
       "        </tr>\n",
       "        <tr>\n",
       "            <td>0            </td> <td>My girlfriend and I would love to take a trip with King  ...</td> <td>{\"id\":279,\"name\":\"Places\",\"slug\":\"photography/places\",\"p ...</td> <td>0                       </td> <td>US     </td> <td>1426775669</td> <td>{\"id\":219196759,\"name\":\"Eric Warren (deleted)\",\"is_regis ...</td> <td>USD     </td> <td>$              </td> <td>True                  </td> <td>USD             </td> <td>1431973403</td> <td>True                 </td> <td>nan    </td> <td>1       </td> <td>8000 </td> <td>420719071 </td> <td>nan       </td> <td>False       </td> <td>nan       </td> <td>1426789403 </td> <td>{\"id\":2369342,\"name\":\"Bristol\",\"slug\":\"bristol-tn\",\"shor ...</td> <td>Lautenschlager Azekah Expedition/ Tel Azekah, Israel        </td> <td>nan        </td> <td>{\"key\":\"assets/012/074/151/5234af77da934893868acc5b0f6b6 ...</td> <td>0      </td> <td>{\"id\":1779297,\"project_id\":1779297,\"state\":\"inactive\",\"s ...</td> <td>lautenschlager-azekah-expedition-tel-azekah-israel</td> <td>https://www.kickstarter.com/discover/categories/photogra ...</td> <td>False    </td> <td>False     </td> <td>suspended </td> <td>1427296901      </td> <td>1              </td> <td>{\"web\":{\"project\":\"https://www.kickstarter.com/projects/ ...</td> <td>0          </td> <td>international</td>\n",
       "        </tr>\n",
       "        <tr>\n",
       "            <td>478          </td> <td>An airtight filament storage solution that keeps your fi ...</td> <td>{\"id\":331,\"name\":\"3D Printing\",\"slug\":\"technology/3d pri ...</td> <td>44790                   </td> <td>CA     </td> <td>1506526408</td> <td>{\"id\":730230926,\"name\":\"PrintDry\",\"is_registered\":true,\" ...</td> <td>CAD     </td> <td>$              </td> <td>True                  </td> <td>USD             </td> <td>1510981200</td> <td>False                </td> <td>nan    </td> <td>0.768991</td> <td>3500 </td> <td>532704117 </td> <td>nan       </td> <td>False       </td> <td>nan       </td> <td>1506969874 </td> <td>{\"id\":3531,\"name\":\"Windsor\",\"slug\":\"windsor-qc-ca\",\"shor ...</td> <td>PrintDry Filament Container For 3D Printing                 </td> <td>nan        </td> <td>{\"key\":\"assets/018/506/411/6f3cfa0ac78940fdc2165bc52742d ...</td> <td>57025  </td> <td>{\"id\":3158480,\"project_id\":3158480,\"state\":\"active\",\"sta ...</td> <td>printdry-filament-container-for-3d-printing       </td> <td>https://www.kickstarter.com/discover/categories/technolo ...</td> <td>True     </td> <td>False     </td> <td>successful</td> <td>1510981202      </td> <td>0.80147        </td> <td>{\"web\":{\"project\":\"https://www.kickstarter.com/projects/ ...</td> <td>45703.8    </td> <td>international</td>\n",
       "        </tr>\n",
       "        <tr>\n",
       "            <td>24           </td> <td>Help Suanam Village in Papua New Guinea build facilities ...</td> <td>{\"id\":258,\"name\":\"Architecture\",\"slug\":\"design/architect ...</td> <td>842                     </td> <td>AU     </td> <td>1413709155</td> <td>{\"id\":1975251957,\"name\":\"Amy Wu\",\"is_registered\":true,\"c ...</td> <td>AUD     </td> <td>$              </td> <td>True                  </td> <td>USD             </td> <td>1415365140</td> <td>False                </td> <td>nan    </td> <td>0.719053</td> <td>525  </td> <td>884978255 </td> <td>nan       </td> <td>False       </td> <td>nan       </td> <td>1414229003 </td> <td>{\"id\":1061360,\"name\":\"Wewak\",\"slug\":\"wewak-pg\",\"short_na ...</td> <td>Community Development in Suanam Village, Papua New Guinea   </td> <td>nan        </td> <td>{\"key\":\"assets/011/914/256/841854746b73d823c4284630c299c ...</td> <td>985    </td> <td>{\"id\":1451718,\"project_id\":1451718,\"state\":\"inactive\",\"s ...</td> <td>suanam-village-composting-toilet-in-papua-new-guin</td> <td>https://www.kickstarter.com/discover/categories/design/a ...</td> <td>True     </td> <td>False     </td> <td>successful</td> <td>1415365140      </td> <td>0.874389       </td> <td>{\"web\":{\"project\":\"https://www.kickstarter.com/projects/ ...</td> <td>861.273    </td> <td>international</td>\n",
       "        </tr>\n",
       "        <tr>\n",
       "            <td>145          </td> <td>Get the most out of your HIFI headphones with a Lucid La ...</td> <td>{\"id\":339,\"name\":\"Sound\",\"slug\":\"technology/sound\",\"posi ...</td> <td>7806                    </td> <td>US     </td> <td>1450051113</td> <td>{\"id\":1721521097,\"name\":\"Lucid Labs\",\"is_registered\":tru ...</td> <td>USD     </td> <td>$              </td> <td>True                  </td> <td>USD             </td> <td>1460304604</td> <td>False                </td> <td>nan    </td> <td>1       </td> <td>750  </td> <td>1254475531</td> <td>nan       </td> <td>False       </td> <td>nan       </td> <td>1457716204 </td> <td>{\"id\":2437269,\"name\":\"Lawrence\",\"slug\":\"lawrence-ks\",\"sh ...</td> <td>Lucid Labs Deluxe CMOY Headphone Amplifier                  </td> <td>nan        </td> <td>{\"key\":\"assets/012/331/850/9b23cbb9388db1b9f92bce421899f ...</td> <td>7806   </td> <td>{\"id\":2276636,\"project_id\":2276636,\"state\":\"inactive\",\"s ...</td> <td>lucid-labs-deluxe-cmoy-headphone-amplifier        </td> <td>https://www.kickstarter.com/discover/categories/technolo ...</td> <td>True     </td> <td>False     </td> <td>successful</td> <td>1460304604      </td> <td>1              </td> <td>{\"web\":{\"project\":\"https://www.kickstarter.com/projects/ ...</td> <td>7806       </td> <td>international</td>\n",
       "        </tr>\n",
       "        <tr>\n",
       "            <td>4            </td> <td>To share my vision, I want to exhibit my \"HEROES\" series ...</td> <td>{\"id\":23,\"name\":\"Painting\",\"slug\":\"art/painting\",\"positi ...</td> <td>116                     </td> <td>US     </td> <td>1307739489</td> <td>{\"id\":1652075506,\"name\":\"jason nuttall\",\"is_registered\": ...</td> <td>USD     </td> <td>$              </td> <td>True                  </td> <td>USD             </td> <td>1313240259</td> <td>False                </td> <td>nan    </td> <td>1       </td> <td>700  </td> <td>298248275 </td> <td>nan       </td> <td>False       </td> <td>nan       </td> <td>1312981059 </td> <td>{\"id\":2516728,\"name\":\"West Branch\",\"slug\":\"west-branch-o ...</td> <td>Paying Homage to Heroes- Portraits of Jack, Sammy and Popeye</td> <td>nan        </td> <td>{\"key\":\"assets/011/288/627/e908570a9769427272c9333cc67fb ...</td> <td>116.5  </td> <td>{\"id\":38322,\"project_id\":38322,\"state\":\"inactive\",\"state ...</td> <td>paying-homage-to-heroes-portraits-of-jack-sammy-an</td> <td>https://www.kickstarter.com/discover/categories/art/painting</td> <td>False    </td> <td>False     </td> <td>failed    </td> <td>1313240261      </td> <td>1              </td> <td>{\"web\":{\"project\":\"https://www.kickstarter.com/projects/ ...</td> <td>116.5      </td> <td>international</td>\n",
       "        </tr>\n",
       "        <tr>\n",
       "            <td>26           </td> <td>The Way Place - a refuge of light, color and shade on th ...</td> <td>{\"id\":23,\"name\":\"Painting\",\"slug\":\"art/painting\",\"positi ...</td> <td>931                     </td> <td>US     </td> <td>1277576301</td> <td>{\"id\":1332404410,\"name\":\"Domain\",\"is_registered\":true,\"c ...</td> <td>USD     </td> <td>$              </td> <td>True                  </td> <td>USD             </td> <td>1281917400</td> <td>False                </td> <td>nan    </td> <td>1       </td> <td>795  </td> <td>1317640278</td> <td>nan       </td> <td>False       </td> <td>nan       </td> <td>1277953588 </td> <td>{\"id\":2375156,\"name\":\"Carmel Valley\",\"slug\":\"carmel-vall ...</td> <td>The Way Place - a Refuge of Light, Color and Shade for T ...</td> <td>nan        </td> <td>{\"key\":\"assets/011/263/994/ce8a9ec8efc143f176675f3b6983b ...</td> <td>931    </td> <td>{\"id\":8349,\"project_id\":8349,\"state\":\"inactive\",\"state_c ...</td> <td>the-way-place-a-refuge-of-light-color-and-shade-fo</td> <td>https://www.kickstarter.com/discover/categories/art/painting</td> <td>True     </td> <td>False     </td> <td>successful</td> <td>1281917716      </td> <td>1              </td> <td>{\"web\":{\"project\":\"https://www.kickstarter.com/projects/ ...</td> <td>931        </td> <td>international</td>\n",
       "        </tr>\n",
       "        <tr>\n",
       "            <td>4            </td> <td>Two  years ago this business was started to help a local ...</td> <td>{\"id\":311,\"name\":\"Food Trucks\",\"slug\":\"food/food trucks\" ...</td> <td>42                      </td> <td>US     </td> <td>1481647006</td> <td>{\"id\":1699993990,\"name\":\"Jenny Chute\",\"is_registered\":tr ...</td> <td>USD     </td> <td>$              </td> <td>True                  </td> <td>USD             </td> <td>1484239320</td> <td>False                </td> <td>nan    </td> <td>1       </td> <td>1000 </td> <td>160895667 </td> <td>nan       </td> <td>False       </td> <td>nan       </td> <td>1482609088 </td> <td>{\"id\":2449558,\"name\":\"Meredosia\",\"slug\":\"meredosia-il\",\" ...</td> <td>J & D Rolling Smoke BBQ expansion                           </td> <td>nan        </td> <td>{\"key\":\"assets/014/870/884/80b587b7077576bda3e19a82ed426 ...</td> <td>42     </td> <td>{\"id\":2798178,\"project_id\":2798178,\"state\":\"inactive\",\"s ...</td> <td>j-and-d-rolling-smoke-bbq-expansion               </td> <td>https://www.kickstarter.com/discover/categories/food/foo ...</td> <td>False    </td> <td>False     </td> <td>failed    </td> <td>1484239320      </td> <td>1              </td> <td>{\"web\":{\"project\":\"https://www.kickstarter.com/projects/ ...</td> <td>42         </td> <td>international</td>\n",
       "        </tr>\n",
       "        <tr>\n",
       "            <td>0            </td> <td>KICKSTARTER EXCLUSIVE: 100 People get VIP for Jay Davi's ...</td> <td>{\"id\":38,\"name\":\"Electronic Music\",\"slug\":\"music/electro ...</td> <td>0                       </td> <td>US     </td> <td>1484013931</td> <td>{\"id\":1987717207,\"name\":\"A KickIn Crowd\",\"is_registered\" ...</td> <td>USD     </td> <td>$              </td> <td>True                  </td> <td>USD             </td> <td>1491595597</td> <td>False                </td> <td>nan    </td> <td>1       </td> <td>5000 </td> <td>1609904344</td> <td>nan       </td> <td>False       </td> <td>nan       </td> <td>1490990797 </td> <td>{\"id\":2383660,\"name\":\"Columbus\",\"slug\":\"columbus-oh\",\"sh ...</td> <td>Jay Davi for you EDM Fans! Electronic Dance Music Songs  ...</td> <td>nan        </td> <td>{\"key\":\"assets/015/116/070/45df94e50592333c1b2d1c394ff3b ...</td> <td>0      </td> <td>{\"id\":2829193,\"project_id\":2829193,\"state\":\"inactive\",\"s ...</td> <td>jay-davi-for-you-edm-fans-electronic-dance-music-s</td> <td>https://www.kickstarter.com/discover/categories/music/el ...</td> <td>False    </td> <td>False     </td> <td>canceled  </td> <td>1491492436      </td> <td>1              </td> <td>{\"web\":{\"project\":\"https://www.kickstarter.com/projects/ ...</td> <td>0          </td> <td>international</td>\n",
       "        </tr>\n",
       "        <tr>\n",
       "            <td>8            </td> <td>Its time for me to come home for a NW tour and to see al ...</td> <td>{\"id\":38,\"name\":\"Electronic Music\",\"slug\":\"music/electro ...</td> <td>260                     </td> <td>US     </td> <td>1350433055</td> <td>{\"id\":1791049747,\"name\":\"Kathy\",\"is_registered\":true,\"ch ...</td> <td>USD     </td> <td>$              </td> <td>True                  </td> <td>USD             </td> <td>1354842941</td> <td>False                </td> <td>nan    </td> <td>1       </td> <td>200  </td> <td>712970647 </td> <td>nan       </td> <td>False       </td> <td>nan       </td> <td>1352250941 </td> <td>{\"id\":2490383,\"name\":\"Seattle\",\"slug\":\"seattle-wa\",\"shor ...</td> <td>! ! Bring NoClouds Home ! !                                 </td> <td>nan        </td> <td>{\"key\":\"assets/011/440/666/09862832d1c4c194e5bc51ffb0da6 ...</td> <td>260    </td> <td>{\"id\":377194,\"project_id\":377194,\"state\":\"inactive\",\"sta ...</td> <td>bring-noclouds-home                               </td> <td>https://www.kickstarter.com/discover/categories/music/el ...</td> <td>True     </td> <td>False     </td> <td>successful</td> <td>1354842943      </td> <td>1              </td> <td>{\"web\":{\"project\":\"https://www.kickstarter.com/projects/ ...</td> <td>260        </td> <td>international</td>\n",
       "        </tr>\n",
       "    </tbody>\n",
       "</table>\n",
       "<p>... (2952 rows omitted)</p>"
      ],
      "text/plain": [
       "<IPython.core.display.HTML object>"
      ]
     },
     "metadata": {},
     "output_type": "display_data"
    }
   ],
   "source": [
    "Kickstarter=Table.read_table('Kickstarter050.csv')\n",
    "Kickstarter.show(10)"
   ]
  },
  {
   "cell_type": "code",
   "execution_count": 5,
   "metadata": {},
   "outputs": [
    {
     "data": {
      "text/html": [
       "<table border=\"1\" class=\"dataframe\">\n",
       "    <thead>\n",
       "        <tr>\n",
       "            <th>country</th> <th>count</th>\n",
       "        </tr>\n",
       "    </thead>\n",
       "    <tbody>\n",
       "        <tr>\n",
       "            <td>US     </td> <td>2416 </td>\n",
       "        </tr>\n",
       "        <tr>\n",
       "            <td>GB     </td> <td>238  </td>\n",
       "        </tr>\n",
       "        <tr>\n",
       "            <td>CA     </td> <td>92   </td>\n",
       "        </tr>\n",
       "        <tr>\n",
       "            <td>AU     </td> <td>57   </td>\n",
       "        </tr>\n",
       "        <tr>\n",
       "            <td>DE     </td> <td>22   </td>\n",
       "        </tr>\n",
       "        <tr>\n",
       "            <td>NL     </td> <td>19   </td>\n",
       "        </tr>\n",
       "        <tr>\n",
       "            <td>FR     </td> <td>15   </td>\n",
       "        </tr>\n",
       "        <tr>\n",
       "            <td>SE     </td> <td>14   </td>\n",
       "        </tr>\n",
       "        <tr>\n",
       "            <td>ES     </td> <td>14   </td>\n",
       "        </tr>\n",
       "        <tr>\n",
       "            <td>NZ     </td> <td>13   </td>\n",
       "        </tr>\n",
       "    </tbody>\n",
       "</table>\n",
       "<p>... (11 rows omitted)</p>"
      ],
      "text/plain": [
       "country | count\n",
       "US      | 2416\n",
       "GB      | 238\n",
       "CA      | 92\n",
       "AU      | 57\n",
       "DE      | 22\n",
       "NL      | 19\n",
       "FR      | 15\n",
       "SE      | 14\n",
       "ES      | 14\n",
       "NZ      | 13\n",
       "... (11 rows omitted)"
      ]
     },
     "execution_count": 5,
     "metadata": {},
     "output_type": "execute_result"
    }
   ],
   "source": [
    "Kickstarter.group('country').sort('count',descending=True)"
   ]
  },
  {
   "cell_type": "code",
   "execution_count": 12,
   "metadata": {},
   "outputs": [
    {
     "ename": "AttributeError",
     "evalue": "'Table' object has no attribute 'pd'",
     "output_type": "error",
     "traceback": [
      "\u001b[0;31m---------------------------------------------------------------------------\u001b[0m",
      "\u001b[0;31mAttributeError\u001b[0m                            Traceback (most recent call last)",
      "\u001b[0;32m<ipython-input-12-83b743f0405a>\u001b[0m in \u001b[0;36m<module>\u001b[0;34m()\u001b[0m\n\u001b[0;32m----> 1\u001b[0;31m \u001b[0mcleaned\u001b[0m\u001b[0;34m=\u001b[0m\u001b[0mKickstarter\u001b[0m\u001b[0;34m.\u001b[0m\u001b[0mpd\u001b[0m\u001b[0;34m.\u001b[0m\u001b[0mSeries\u001b[0m\u001b[0;34m(\u001b[0m\u001b[0;34m'deadline_in_date'\u001b[0m\u001b[0;34m,\u001b[0m\u001b[0mKickstarter\u001b[0m\u001b[0;34m.\u001b[0m\u001b[0mapply\u001b[0m\u001b[0;34m(\u001b[0m\u001b[0mtime\u001b[0m\u001b[0;34m.\u001b[0m\u001b[0mctime\u001b[0m\u001b[0;34m,\u001b[0m\u001b[0;34m'deadline'\u001b[0m\u001b[0;34m)\u001b[0m\u001b[0;34m)\u001b[0m\u001b[0;34m.\u001b[0m\u001b[0mdrop\u001b[0m\u001b[0;34m(\u001b[0m\u001b[0;34m'deadline'\u001b[0m\u001b[0;34m,\u001b[0m\u001b[0;34m'category'\u001b[0m\u001b[0;34m,\u001b[0m\u001b[0;34m'creator'\u001b[0m\u001b[0;34m)\u001b[0m\u001b[0;34m\u001b[0m\u001b[0m\n\u001b[0m",
      "\u001b[0;32m/srv/app/venv/lib/python3.6/site-packages/datascience/tables.py\u001b[0m in \u001b[0;36m__getattr__\u001b[0;34m(self, attr)\u001b[0m\n\u001b[1;32m    203\u001b[0m         \u001b[0;32melse\u001b[0m\u001b[0;34m:\u001b[0m\u001b[0;34m\u001b[0m\u001b[0m\n\u001b[1;32m    204\u001b[0m             \u001b[0mmsg\u001b[0m \u001b[0;34m=\u001b[0m \u001b[0;34m\"'{0}' object has no attribute '{1}'\"\u001b[0m\u001b[0;34m.\u001b[0m\u001b[0mformat\u001b[0m\u001b[0;34m(\u001b[0m\u001b[0mtype\u001b[0m\u001b[0;34m(\u001b[0m\u001b[0mself\u001b[0m\u001b[0;34m)\u001b[0m\u001b[0;34m.\u001b[0m\u001b[0m__name__\u001b[0m\u001b[0;34m,\u001b[0m \u001b[0mattr\u001b[0m\u001b[0;34m)\u001b[0m\u001b[0;34m\u001b[0m\u001b[0m\n\u001b[0;32m--> 205\u001b[0;31m             \u001b[0;32mraise\u001b[0m \u001b[0mAttributeError\u001b[0m\u001b[0;34m(\u001b[0m\u001b[0mmsg\u001b[0m\u001b[0;34m)\u001b[0m\u001b[0;34m\u001b[0m\u001b[0m\n\u001b[0m\u001b[1;32m    206\u001b[0m \u001b[0;34m\u001b[0m\u001b[0m\n\u001b[1;32m    207\u001b[0m     \u001b[0;31m####################\u001b[0m\u001b[0;34m\u001b[0m\u001b[0;34m\u001b[0m\u001b[0m\n",
      "\u001b[0;31mAttributeError\u001b[0m: 'Table' object has no attribute 'pd'"
     ]
    }
   ],
   "source": [
    "cleaned=Kickstarter('deadline_in_date',Kickstarter.apply(time.ctime,'deadline')).drop('deadline','category','creator')"
   ]
  },
  {
   "cell_type": "code",
   "execution_count": 7,
   "metadata": {},
   "outputs": [],
   "source": [
    "cleaned=cleaned.with_column('created',cleaned.apply(time.ctime,'created_at')).drop('created_at')"
   ]
  },
  {
   "cell_type": "code",
   "execution_count": 8,
   "metadata": {},
   "outputs": [],
   "source": [
    "cleaned=cleaned.with_column('state_changed',cleaned.apply(time.ctime,'state_changed_at')).drop('state_changed_at')"
   ]
  },
  {
   "cell_type": "code",
   "execution_count": 9,
   "metadata": {},
   "outputs": [
    {
     "data": {
      "text/html": [
       "<table border=\"1\" class=\"dataframe\">\n",
       "    <thead>\n",
       "        <tr>\n",
       "            <th>backers_count</th> <th>blurb</th> <th>converted_pledged_amount</th> <th>country</th> <th>currency</th> <th>currency_symbol</th> <th>currency_trailing_code</th> <th>current_currency</th> <th>disable_communication</th> <th>friends</th> <th>fx_rate</th> <th>goal</th> <th>id</th> <th>is_backing</th> <th>is_starrable</th> <th>is_starred</th> <th>launched_at</th> <th>location</th> <th>name</th> <th>permissions</th> <th>photo</th> <th>pledged</th> <th>profile</th> <th>slug</th> <th>source_url</th> <th>spotlight</th> <th>staff_pick</th> <th>state</th> <th>static_usd_rate</th> <th>urls</th> <th>usd_pledged</th> <th>usd_type</th> <th>deadline_in_date</th> <th>created</th> <th>state_changed</th>\n",
       "        </tr>\n",
       "    </thead>\n",
       "    <tbody>\n",
       "        <tr>\n",
       "            <td>2            </td> <td>A unique stand for the iPhone 5,  5s, 5c, 6, with an aco ...</td> <td>50                      </td> <td>US     </td> <td>USD     </td> <td>$              </td> <td>True                  </td> <td>USD             </td> <td>False                </td> <td>nan    </td> <td>1       </td> <td>10000</td> <td>730648362 </td> <td>nan       </td> <td>False       </td> <td>nan       </td> <td>1418171311 </td> <td>{\"id\":2456971,\"name\":\"Nanuet\",\"slug\":\"nanuet-ny\",\"short_ ...</td> <td>iPhone 5, 5s, 5c, 6 Stand and Passive Amplifier (Canceled)  </td> <td>nan        </td> <td>{\"key\":\"assets/011/969/608/49a2352afc22a69bd18c339569e6a ...</td> <td>50     </td> <td>{\"id\":1567403,\"project_id\":1567403,\"state\":\"inactive\",\"s ...</td> <td>iphone-5-5s-5c-stand-and-passive-amplifier        </td> <td>https://www.kickstarter.com/discover/categories/technolo ...</td> <td>False    </td> <td>False     </td> <td>canceled  </td> <td>1              </td> <td>{\"web\":{\"project\":\"https://www.kickstarter.com/projects/ ...</td> <td>50         </td> <td>international</td> <td>Sat Feb  7 16:28:31 2015</td> <td>Tue Dec  9 15:34:57 2014</td> <td>Sat Dec 13 19:01:51 2014</td>\n",
       "        </tr>\n",
       "        <tr>\n",
       "            <td>0            </td> <td>My girlfriend and I would love to take a trip with King  ...</td> <td>0                       </td> <td>US     </td> <td>USD     </td> <td>$              </td> <td>True                  </td> <td>USD             </td> <td>True                 </td> <td>nan    </td> <td>1       </td> <td>8000 </td> <td>420719071 </td> <td>nan       </td> <td>False       </td> <td>nan       </td> <td>1426789403 </td> <td>{\"id\":2369342,\"name\":\"Bristol\",\"slug\":\"bristol-tn\",\"shor ...</td> <td>Lautenschlager Azekah Expedition/ Tel Azekah, Israel        </td> <td>nan        </td> <td>{\"key\":\"assets/012/074/151/5234af77da934893868acc5b0f6b6 ...</td> <td>0      </td> <td>{\"id\":1779297,\"project_id\":1779297,\"state\":\"inactive\",\"s ...</td> <td>lautenschlager-azekah-expedition-tel-azekah-israel</td> <td>https://www.kickstarter.com/discover/categories/photogra ...</td> <td>False    </td> <td>False     </td> <td>suspended </td> <td>1              </td> <td>{\"web\":{\"project\":\"https://www.kickstarter.com/projects/ ...</td> <td>0          </td> <td>international</td> <td>Mon May 18 11:23:23 2015</td> <td>Thu Mar 19 07:34:29 2015</td> <td>Wed Mar 25 08:21:41 2015</td>\n",
       "        </tr>\n",
       "        <tr>\n",
       "            <td>478          </td> <td>An airtight filament storage solution that keeps your fi ...</td> <td>44790                   </td> <td>CA     </td> <td>CAD     </td> <td>$              </td> <td>True                  </td> <td>USD             </td> <td>False                </td> <td>nan    </td> <td>0.768991</td> <td>3500 </td> <td>532704117 </td> <td>nan       </td> <td>False       </td> <td>nan       </td> <td>1506969874 </td> <td>{\"id\":3531,\"name\":\"Windsor\",\"slug\":\"windsor-qc-ca\",\"shor ...</td> <td>PrintDry Filament Container For 3D Printing                 </td> <td>nan        </td> <td>{\"key\":\"assets/018/506/411/6f3cfa0ac78940fdc2165bc52742d ...</td> <td>57025  </td> <td>{\"id\":3158480,\"project_id\":3158480,\"state\":\"active\",\"sta ...</td> <td>printdry-filament-container-for-3d-printing       </td> <td>https://www.kickstarter.com/discover/categories/technolo ...</td> <td>True     </td> <td>False     </td> <td>successful</td> <td>0.80147        </td> <td>{\"web\":{\"project\":\"https://www.kickstarter.com/projects/ ...</td> <td>45703.8    </td> <td>international</td> <td>Fri Nov 17 21:00:00 2017</td> <td>Wed Sep 27 08:33:28 2017</td> <td>Fri Nov 17 21:00:02 2017</td>\n",
       "        </tr>\n",
       "        <tr>\n",
       "            <td>24           </td> <td>Help Suanam Village in Papua New Guinea build facilities ...</td> <td>842                     </td> <td>AU     </td> <td>AUD     </td> <td>$              </td> <td>True                  </td> <td>USD             </td> <td>False                </td> <td>nan    </td> <td>0.719053</td> <td>525  </td> <td>884978255 </td> <td>nan       </td> <td>False       </td> <td>nan       </td> <td>1414229003 </td> <td>{\"id\":1061360,\"name\":\"Wewak\",\"slug\":\"wewak-pg\",\"short_na ...</td> <td>Community Development in Suanam Village, Papua New Guinea   </td> <td>nan        </td> <td>{\"key\":\"assets/011/914/256/841854746b73d823c4284630c299c ...</td> <td>985    </td> <td>{\"id\":1451718,\"project_id\":1451718,\"state\":\"inactive\",\"s ...</td> <td>suanam-village-composting-toilet-in-papua-new-guin</td> <td>https://www.kickstarter.com/discover/categories/design/a ...</td> <td>True     </td> <td>False     </td> <td>successful</td> <td>0.874389       </td> <td>{\"web\":{\"project\":\"https://www.kickstarter.com/projects/ ...</td> <td>861.273    </td> <td>international</td> <td>Fri Nov  7 04:59:00 2014</td> <td>Sun Oct 19 01:59:15 2014</td> <td>Fri Nov  7 04:59:00 2014</td>\n",
       "        </tr>\n",
       "        <tr>\n",
       "            <td>145          </td> <td>Get the most out of your HIFI headphones with a Lucid La ...</td> <td>7806                    </td> <td>US     </td> <td>USD     </td> <td>$              </td> <td>True                  </td> <td>USD             </td> <td>False                </td> <td>nan    </td> <td>1       </td> <td>750  </td> <td>1254475531</td> <td>nan       </td> <td>False       </td> <td>nan       </td> <td>1457716204 </td> <td>{\"id\":2437269,\"name\":\"Lawrence\",\"slug\":\"lawrence-ks\",\"sh ...</td> <td>Lucid Labs Deluxe CMOY Headphone Amplifier                  </td> <td>nan        </td> <td>{\"key\":\"assets/012/331/850/9b23cbb9388db1b9f92bce421899f ...</td> <td>7806   </td> <td>{\"id\":2276636,\"project_id\":2276636,\"state\":\"inactive\",\"s ...</td> <td>lucid-labs-deluxe-cmoy-headphone-amplifier        </td> <td>https://www.kickstarter.com/discover/categories/technolo ...</td> <td>True     </td> <td>False     </td> <td>successful</td> <td>1              </td> <td>{\"web\":{\"project\":\"https://www.kickstarter.com/projects/ ...</td> <td>7806       </td> <td>international</td> <td>Sun Apr 10 09:10:04 2016</td> <td>Sun Dec 13 15:58:33 2015</td> <td>Sun Apr 10 09:10:04 2016</td>\n",
       "        </tr>\n",
       "        <tr>\n",
       "            <td>4            </td> <td>To share my vision, I want to exhibit my \"HEROES\" series ...</td> <td>116                     </td> <td>US     </td> <td>USD     </td> <td>$              </td> <td>True                  </td> <td>USD             </td> <td>False                </td> <td>nan    </td> <td>1       </td> <td>700  </td> <td>298248275 </td> <td>nan       </td> <td>False       </td> <td>nan       </td> <td>1312981059 </td> <td>{\"id\":2516728,\"name\":\"West Branch\",\"slug\":\"west-branch-o ...</td> <td>Paying Homage to Heroes- Portraits of Jack, Sammy and Popeye</td> <td>nan        </td> <td>{\"key\":\"assets/011/288/627/e908570a9769427272c9333cc67fb ...</td> <td>116.5  </td> <td>{\"id\":38322,\"project_id\":38322,\"state\":\"inactive\",\"state ...</td> <td>paying-homage-to-heroes-portraits-of-jack-sammy-an</td> <td>https://www.kickstarter.com/discover/categories/art/painting</td> <td>False    </td> <td>False     </td> <td>failed    </td> <td>1              </td> <td>{\"web\":{\"project\":\"https://www.kickstarter.com/projects/ ...</td> <td>116.5      </td> <td>international</td> <td>Sat Aug 13 05:57:39 2011</td> <td>Fri Jun 10 13:58:09 2011</td> <td>Sat Aug 13 05:57:41 2011</td>\n",
       "        </tr>\n",
       "        <tr>\n",
       "            <td>26           </td> <td>The Way Place - a refuge of light, color and shade on th ...</td> <td>931                     </td> <td>US     </td> <td>USD     </td> <td>$              </td> <td>True                  </td> <td>USD             </td> <td>False                </td> <td>nan    </td> <td>1       </td> <td>795  </td> <td>1317640278</td> <td>nan       </td> <td>False       </td> <td>nan       </td> <td>1277953588 </td> <td>{\"id\":2375156,\"name\":\"Carmel Valley\",\"slug\":\"carmel-vall ...</td> <td>The Way Place - a Refuge of Light, Color and Shade for T ...</td> <td>nan        </td> <td>{\"key\":\"assets/011/263/994/ce8a9ec8efc143f176675f3b6983b ...</td> <td>931    </td> <td>{\"id\":8349,\"project_id\":8349,\"state\":\"inactive\",\"state_c ...</td> <td>the-way-place-a-refuge-of-light-color-and-shade-fo</td> <td>https://www.kickstarter.com/discover/categories/art/painting</td> <td>True     </td> <td>False     </td> <td>successful</td> <td>1              </td> <td>{\"web\":{\"project\":\"https://www.kickstarter.com/projects/ ...</td> <td>931        </td> <td>international</td> <td>Sun Aug 15 17:10:00 2010</td> <td>Sat Jun 26 11:18:21 2010</td> <td>Sun Aug 15 17:15:16 2010</td>\n",
       "        </tr>\n",
       "        <tr>\n",
       "            <td>4            </td> <td>Two  years ago this business was started to help a local ...</td> <td>42                      </td> <td>US     </td> <td>USD     </td> <td>$              </td> <td>True                  </td> <td>USD             </td> <td>False                </td> <td>nan    </td> <td>1       </td> <td>1000 </td> <td>160895667 </td> <td>nan       </td> <td>False       </td> <td>nan       </td> <td>1482609088 </td> <td>{\"id\":2449558,\"name\":\"Meredosia\",\"slug\":\"meredosia-il\",\" ...</td> <td>J & D Rolling Smoke BBQ expansion                           </td> <td>nan        </td> <td>{\"key\":\"assets/014/870/884/80b587b7077576bda3e19a82ed426 ...</td> <td>42     </td> <td>{\"id\":2798178,\"project_id\":2798178,\"state\":\"inactive\",\"s ...</td> <td>j-and-d-rolling-smoke-bbq-expansion               </td> <td>https://www.kickstarter.com/discover/categories/food/foo ...</td> <td>False    </td> <td>False     </td> <td>failed    </td> <td>1              </td> <td>{\"web\":{\"project\":\"https://www.kickstarter.com/projects/ ...</td> <td>42         </td> <td>international</td> <td>Thu Jan 12 08:42:00 2017</td> <td>Tue Dec 13 08:36:46 2016</td> <td>Thu Jan 12 08:42:00 2017</td>\n",
       "        </tr>\n",
       "        <tr>\n",
       "            <td>0            </td> <td>KICKSTARTER EXCLUSIVE: 100 People get VIP for Jay Davi's ...</td> <td>0                       </td> <td>US     </td> <td>USD     </td> <td>$              </td> <td>True                  </td> <td>USD             </td> <td>False                </td> <td>nan    </td> <td>1       </td> <td>5000 </td> <td>1609904344</td> <td>nan       </td> <td>False       </td> <td>nan       </td> <td>1490990797 </td> <td>{\"id\":2383660,\"name\":\"Columbus\",\"slug\":\"columbus-oh\",\"sh ...</td> <td>Jay Davi for you EDM Fans! Electronic Dance Music Songs  ...</td> <td>nan        </td> <td>{\"key\":\"assets/015/116/070/45df94e50592333c1b2d1c394ff3b ...</td> <td>0      </td> <td>{\"id\":2829193,\"project_id\":2829193,\"state\":\"inactive\",\"s ...</td> <td>jay-davi-for-you-edm-fans-electronic-dance-music-s</td> <td>https://www.kickstarter.com/discover/categories/music/el ...</td> <td>False    </td> <td>False     </td> <td>canceled  </td> <td>1              </td> <td>{\"web\":{\"project\":\"https://www.kickstarter.com/projects/ ...</td> <td>0          </td> <td>international</td> <td>Fri Apr  7 13:06:37 2017</td> <td>Mon Jan  9 18:05:31 2017</td> <td>Thu Apr  6 08:27:16 2017</td>\n",
       "        </tr>\n",
       "        <tr>\n",
       "            <td>8            </td> <td>Its time for me to come home for a NW tour and to see al ...</td> <td>260                     </td> <td>US     </td> <td>USD     </td> <td>$              </td> <td>True                  </td> <td>USD             </td> <td>False                </td> <td>nan    </td> <td>1       </td> <td>200  </td> <td>712970647 </td> <td>nan       </td> <td>False       </td> <td>nan       </td> <td>1352250941 </td> <td>{\"id\":2490383,\"name\":\"Seattle\",\"slug\":\"seattle-wa\",\"shor ...</td> <td>! ! Bring NoClouds Home ! !                                 </td> <td>nan        </td> <td>{\"key\":\"assets/011/440/666/09862832d1c4c194e5bc51ffb0da6 ...</td> <td>260    </td> <td>{\"id\":377194,\"project_id\":377194,\"state\":\"inactive\",\"sta ...</td> <td>bring-noclouds-home                               </td> <td>https://www.kickstarter.com/discover/categories/music/el ...</td> <td>True     </td> <td>False     </td> <td>successful</td> <td>1              </td> <td>{\"web\":{\"project\":\"https://www.kickstarter.com/projects/ ...</td> <td>260        </td> <td>international</td> <td>Thu Dec  6 17:15:41 2012</td> <td>Tue Oct 16 17:17:35 2012</td> <td>Thu Dec  6 17:15:43 2012</td>\n",
       "        </tr>\n",
       "    </tbody>\n",
       "</table>\n",
       "<p>... (2952 rows omitted)</p>"
      ],
      "text/plain": [
       "backers_count | blurb                                                        | converted_pledged_amount | country | currency | currency_symbol | currency_trailing_code | current_currency | disable_communication | friends | fx_rate  | goal  | id         | is_backing | is_starrable | is_starred | launched_at | location                                                     | name                                                         | permissions | photo                                                        | pledged | profile                                                      | slug                                               | source_url                                                   | spotlight | staff_pick | state      | static_usd_rate | urls                                                         | usd_pledged | usd_type      | deadline_in_date         | created                  | state_changed\n",
       "2             | A unique stand for the iPhone 5,  5s, 5c, 6, with an aco ... | 50                       | US      | USD      | $               | True                   | USD              | False                 | nan     | 1        | 10000 | 730648362  | nan        | False        | nan        | 1418171311  | {\"id\":2456971,\"name\":\"Nanuet\",\"slug\":\"nanuet-ny\",\"short_ ... | iPhone 5, 5s, 5c, 6 Stand and Passive Amplifier (Canceled)   | nan         | {\"key\":\"assets/011/969/608/49a2352afc22a69bd18c339569e6a ... | 50      | {\"id\":1567403,\"project_id\":1567403,\"state\":\"inactive\",\"s ... | iphone-5-5s-5c-stand-and-passive-amplifier         | https://www.kickstarter.com/discover/categories/technolo ... | False     | False      | canceled   | 1               | {\"web\":{\"project\":\"https://www.kickstarter.com/projects/ ... | 50          | international | Sat Feb  7 16:28:31 2015 | Tue Dec  9 15:34:57 2014 | Sat Dec 13 19:01:51 2014\n",
       "0             | My girlfriend and I would love to take a trip with King  ... | 0                        | US      | USD      | $               | True                   | USD              | True                  | nan     | 1        | 8000  | 420719071  | nan        | False        | nan        | 1426789403  | {\"id\":2369342,\"name\":\"Bristol\",\"slug\":\"bristol-tn\",\"shor ... | Lautenschlager Azekah Expedition/ Tel Azekah, Israel         | nan         | {\"key\":\"assets/012/074/151/5234af77da934893868acc5b0f6b6 ... | 0       | {\"id\":1779297,\"project_id\":1779297,\"state\":\"inactive\",\"s ... | lautenschlager-azekah-expedition-tel-azekah-israel | https://www.kickstarter.com/discover/categories/photogra ... | False     | False      | suspended  | 1               | {\"web\":{\"project\":\"https://www.kickstarter.com/projects/ ... | 0           | international | Mon May 18 11:23:23 2015 | Thu Mar 19 07:34:29 2015 | Wed Mar 25 08:21:41 2015\n",
       "478           | An airtight filament storage solution that keeps your fi ... | 44790                    | CA      | CAD      | $               | True                   | USD              | False                 | nan     | 0.768991 | 3500  | 532704117  | nan        | False        | nan        | 1506969874  | {\"id\":3531,\"name\":\"Windsor\",\"slug\":\"windsor-qc-ca\",\"shor ... | PrintDry Filament Container For 3D Printing                  | nan         | {\"key\":\"assets/018/506/411/6f3cfa0ac78940fdc2165bc52742d ... | 57025   | {\"id\":3158480,\"project_id\":3158480,\"state\":\"active\",\"sta ... | printdry-filament-container-for-3d-printing        | https://www.kickstarter.com/discover/categories/technolo ... | True      | False      | successful | 0.80147         | {\"web\":{\"project\":\"https://www.kickstarter.com/projects/ ... | 45703.8     | international | Fri Nov 17 21:00:00 2017 | Wed Sep 27 08:33:28 2017 | Fri Nov 17 21:00:02 2017\n",
       "24            | Help Suanam Village in Papua New Guinea build facilities ... | 842                      | AU      | AUD      | $               | True                   | USD              | False                 | nan     | 0.719053 | 525   | 884978255  | nan        | False        | nan        | 1414229003  | {\"id\":1061360,\"name\":\"Wewak\",\"slug\":\"wewak-pg\",\"short_na ... | Community Development in Suanam Village, Papua New Guinea    | nan         | {\"key\":\"assets/011/914/256/841854746b73d823c4284630c299c ... | 985     | {\"id\":1451718,\"project_id\":1451718,\"state\":\"inactive\",\"s ... | suanam-village-composting-toilet-in-papua-new-guin | https://www.kickstarter.com/discover/categories/design/a ... | True      | False      | successful | 0.874389        | {\"web\":{\"project\":\"https://www.kickstarter.com/projects/ ... | 861.273     | international | Fri Nov  7 04:59:00 2014 | Sun Oct 19 01:59:15 2014 | Fri Nov  7 04:59:00 2014\n",
       "145           | Get the most out of your HIFI headphones with a Lucid La ... | 7806                     | US      | USD      | $               | True                   | USD              | False                 | nan     | 1        | 750   | 1254475531 | nan        | False        | nan        | 1457716204  | {\"id\":2437269,\"name\":\"Lawrence\",\"slug\":\"lawrence-ks\",\"sh ... | Lucid Labs Deluxe CMOY Headphone Amplifier                   | nan         | {\"key\":\"assets/012/331/850/9b23cbb9388db1b9f92bce421899f ... | 7806    | {\"id\":2276636,\"project_id\":2276636,\"state\":\"inactive\",\"s ... | lucid-labs-deluxe-cmoy-headphone-amplifier         | https://www.kickstarter.com/discover/categories/technolo ... | True      | False      | successful | 1               | {\"web\":{\"project\":\"https://www.kickstarter.com/projects/ ... | 7806        | international | Sun Apr 10 09:10:04 2016 | Sun Dec 13 15:58:33 2015 | Sun Apr 10 09:10:04 2016\n",
       "4             | To share my vision, I want to exhibit my \"HEROES\" series ... | 116                      | US      | USD      | $               | True                   | USD              | False                 | nan     | 1        | 700   | 298248275  | nan        | False        | nan        | 1312981059  | {\"id\":2516728,\"name\":\"West Branch\",\"slug\":\"west-branch-o ... | Paying Homage to Heroes- Portraits of Jack, Sammy and Popeye | nan         | {\"key\":\"assets/011/288/627/e908570a9769427272c9333cc67fb ... | 116.5   | {\"id\":38322,\"project_id\":38322,\"state\":\"inactive\",\"state ... | paying-homage-to-heroes-portraits-of-jack-sammy-an | https://www.kickstarter.com/discover/categories/art/painting | False     | False      | failed     | 1               | {\"web\":{\"project\":\"https://www.kickstarter.com/projects/ ... | 116.5       | international | Sat Aug 13 05:57:39 2011 | Fri Jun 10 13:58:09 2011 | Sat Aug 13 05:57:41 2011\n",
       "26            | The Way Place - a refuge of light, color and shade on th ... | 931                      | US      | USD      | $               | True                   | USD              | False                 | nan     | 1        | 795   | 1317640278 | nan        | False        | nan        | 1277953588  | {\"id\":2375156,\"name\":\"Carmel Valley\",\"slug\":\"carmel-vall ... | The Way Place - a Refuge of Light, Color and Shade for T ... | nan         | {\"key\":\"assets/011/263/994/ce8a9ec8efc143f176675f3b6983b ... | 931     | {\"id\":8349,\"project_id\":8349,\"state\":\"inactive\",\"state_c ... | the-way-place-a-refuge-of-light-color-and-shade-fo | https://www.kickstarter.com/discover/categories/art/painting | True      | False      | successful | 1               | {\"web\":{\"project\":\"https://www.kickstarter.com/projects/ ... | 931         | international | Sun Aug 15 17:10:00 2010 | Sat Jun 26 11:18:21 2010 | Sun Aug 15 17:15:16 2010\n",
       "4             | Two  years ago this business was started to help a local ... | 42                       | US      | USD      | $               | True                   | USD              | False                 | nan     | 1        | 1000  | 160895667  | nan        | False        | nan        | 1482609088  | {\"id\":2449558,\"name\":\"Meredosia\",\"slug\":\"meredosia-il\",\" ... | J & D Rolling Smoke BBQ expansion                            | nan         | {\"key\":\"assets/014/870/884/80b587b7077576bda3e19a82ed426 ... | 42      | {\"id\":2798178,\"project_id\":2798178,\"state\":\"inactive\",\"s ... | j-and-d-rolling-smoke-bbq-expansion                | https://www.kickstarter.com/discover/categories/food/foo ... | False     | False      | failed     | 1               | {\"web\":{\"project\":\"https://www.kickstarter.com/projects/ ... | 42          | international | Thu Jan 12 08:42:00 2017 | Tue Dec 13 08:36:46 2016 | Thu Jan 12 08:42:00 2017\n",
       "0             | KICKSTARTER EXCLUSIVE: 100 People get VIP for Jay Davi's ... | 0                        | US      | USD      | $               | True                   | USD              | False                 | nan     | 1        | 5000  | 1609904344 | nan        | False        | nan        | 1490990797  | {\"id\":2383660,\"name\":\"Columbus\",\"slug\":\"columbus-oh\",\"sh ... | Jay Davi for you EDM Fans! Electronic Dance Music Songs  ... | nan         | {\"key\":\"assets/015/116/070/45df94e50592333c1b2d1c394ff3b ... | 0       | {\"id\":2829193,\"project_id\":2829193,\"state\":\"inactive\",\"s ... | jay-davi-for-you-edm-fans-electronic-dance-music-s | https://www.kickstarter.com/discover/categories/music/el ... | False     | False      | canceled   | 1               | {\"web\":{\"project\":\"https://www.kickstarter.com/projects/ ... | 0           | international | Fri Apr  7 13:06:37 2017 | Mon Jan  9 18:05:31 2017 | Thu Apr  6 08:27:16 2017\n",
       "8             | Its time for me to come home for a NW tour and to see al ... | 260                      | US      | USD      | $               | True                   | USD              | False                 | nan     | 1        | 200   | 712970647  | nan        | False        | nan        | 1352250941  | {\"id\":2490383,\"name\":\"Seattle\",\"slug\":\"seattle-wa\",\"shor ... | ! ! Bring NoClouds Home ! !                                  | nan         | {\"key\":\"assets/011/440/666/09862832d1c4c194e5bc51ffb0da6 ... | 260     | {\"id\":377194,\"project_id\":377194,\"state\":\"inactive\",\"sta ... | bring-noclouds-home                                | https://www.kickstarter.com/discover/categories/music/el ... | True      | False      | successful | 1               | {\"web\":{\"project\":\"https://www.kickstarter.com/projects/ ... | 260         | international | Thu Dec  6 17:15:41 2012 | Tue Oct 16 17:17:35 2012 | Thu Dec  6 17:15:43 2012\n",
       "... (2952 rows omitted)"
      ]
     },
     "execution_count": 9,
     "metadata": {},
     "output_type": "execute_result"
    }
   ],
   "source": [
    "cleaned"
   ]
  },
  {
   "cell_type": "code",
   "execution_count": 11,
   "metadata": {},
   "outputs": [
    {
     "data": {
      "text/html": [
       "<table border=\"1\" class=\"dataframe\">\n",
       "    <thead>\n",
       "        <tr>\n",
       "            <th>state</th> <th>count</th>\n",
       "        </tr>\n",
       "    </thead>\n",
       "    <tbody>\n",
       "        <tr>\n",
       "            <td>canceled  </td> <td>3    </td>\n",
       "        </tr>\n",
       "        <tr>\n",
       "            <td>failed    </td> <td>191  </td>\n",
       "        </tr>\n",
       "        <tr>\n",
       "            <td>live      </td> <td>12   </td>\n",
       "        </tr>\n",
       "        <tr>\n",
       "            <td>successful</td> <td>110  </td>\n",
       "        </tr>\n",
       "    </tbody>\n",
       "</table>"
      ],
      "text/plain": [
       "state      | count\n",
       "canceled   | 3\n",
       "failed     | 191\n",
       "live       | 12\n",
       "successful | 110"
      ]
     },
     "execution_count": 11,
     "metadata": {},
     "output_type": "execute_result"
    }
   ],
   "source": [
    "cleaned.where('source_url',are.containing('technology')).group('state')"
   ]
  },
  {
   "cell_type": "code",
   "execution_count": null,
   "metadata": {},
   "outputs": [],
   "source": [
    "Kickstarter.pd.Series()"
   ]
  }
 ],
 "metadata": {
  "kernelspec": {
   "display_name": "Python 3",
   "language": "python",
   "name": "python3"
  },
  "language_info": {
   "codemirror_mode": {
    "name": "ipython",
    "version": 3
   },
   "file_extension": ".py",
   "mimetype": "text/x-python",
   "name": "python",
   "nbconvert_exporter": "python",
   "pygments_lexer": "ipython3",
   "version": "3.6.5"
  }
 },
 "nbformat": 4,
 "nbformat_minor": 2
}
